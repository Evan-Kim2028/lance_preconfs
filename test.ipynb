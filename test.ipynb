{
 "cells": [
  {
   "cell_type": "code",
   "execution_count": 1,
   "metadata": {},
   "outputs": [
    {
     "name": "stderr",
     "output_type": "stream",
     "text": [
      "/home/evan/Documents/lance_preconfs/.venv/lib/python3.12/site-packages/tqdm/auto.py:21: TqdmWarning: IProgress not found. Please update jupyter and ipywidgets. See https://ipywidgets.readthedocs.io/en/stable/user_install.html\n",
      "  from .autonotebook import tqdm as notebook_tqdm\n"
     ]
    }
   ],
   "source": [
    "import duckdb\n",
    "import polars as pl\n",
    "\n",
    "\n",
    "from hypersync import ColumnMapping, DataType, TransactionField, BlockField\n",
    "from lancedb_tables.lance_table import LanceTable\n",
    "from mev_commit_sdk_py.hypersync_client import Hypersync"
   ]
  },
  {
   "cell_type": "code",
   "execution_count": 2,
   "metadata": {},
   "outputs": [],
   "source": [
    "# Lance table info\n",
    "commitment_table_name = \"commitments\"\n",
    "index: str = \"block_number\"\n",
    "lance_tables = LanceTable()\n",
    "uri: str = \"data\"  # locally saved to \"data folder\"\n",
    "\n",
    "# open the database and get the latest block_number\n",
    "commitments_table = lance_tables.open_table(\n",
    "    uri=uri, table=commitment_table_name)\n",
    "\n",
    "# duckdb con creates a connection to a persistent database\n",
    "con = duckdb.connect()"
   ]
  },
  {
   "cell_type": "code",
   "execution_count": 3,
   "metadata": {},
   "outputs": [],
   "source": [
    "commitments_table = commitments_table.to_lance()"
   ]
  },
  {
   "cell_type": "code",
   "execution_count": 8,
   "metadata": {},
   "outputs": [],
   "source": [
    "df = pl.from_arrow(commitments_table.to_table())"
   ]
  },
  {
   "cell_type": "code",
   "execution_count": 9,
   "metadata": {},
   "outputs": [
    {
     "data": {
      "text/html": [
       "<div><style>\n",
       ".dataframe > thead > tr,\n",
       ".dataframe > tbody > tr {\n",
       "  text-align: right;\n",
       "  white-space: pre-wrap;\n",
       "}\n",
       "</style>\n",
       "<small>shape: (1_230, 18)</small><table border=\"1\" class=\"dataframe\"><thead><tr><th>block_number</th><th>blockNumber</th><th>txnHash</th><th>bid</th><th>commiter</th><th>bidder</th><th>isSlash</th><th>decayStartTimeStamp</th><th>decayEndTimeStamp</th><th>dispatchTimestamp</th><th>commitmentHash</th><th>commitmentIndex</th><th>commitmentDigest</th><th>commitmentSignature</th><th>revertingTxHashes</th><th>bidHash</th><th>bidSignature</th><th>sharedSecretKey</th></tr><tr><td>u64</td><td>u64</td><td>str</td><td>u64</td><td>str</td><td>str</td><td>bool</td><td>u64</td><td>u64</td><td>u64</td><td>str</td><td>str</td><td>str</td><td>str</td><td>str</td><td>str</td><td>str</td><td>str</td></tr></thead><tbody><tr><td>32287</td><td>1902173</td><td>&quot;0x33cd093066bdb28d4ca7763d2d18…</td><td>1000000</td><td>&quot;0xf21b2308b84a60aca2066dcec6e9…</td><td>&quot;0xb36ab9e151aa930a076936774068…</td><td>true</td><td>1713804918616</td><td>1713899918616</td><td>1720643866373</td><td>&quot;0xf3bd4571327468226bbc046aab3b…</td><td>&quot;0xe6d9e06a9597e0d68d314f8d37dc…</td><td>&quot;0xf3bd4571327468226bbc046aab3b…</td><td>&quot;0x8e63fd60ab50e0b31f500d9c0756…</td><td>&quot;33cd093066bdb28d4ca7763d2d1800…</td><td>&quot;0x8d91b989ab5e6a1bab219eefd469…</td><td>&quot;0x1ad2601252417242993f1e02297f…</td><td>&quot;0x10bcc57a0dd089d5c70150977be6…</td></tr><tr><td>34739</td><td>1902203</td><td>&quot;0x33cd093066bdb28d4ca7763d2d18…</td><td>1000000</td><td>&quot;0xf21b2308b84a60aca2066dcec6e9…</td><td>&quot;0x473fe9d5d6c9e0973bad7f91ef61…</td><td>true</td><td>1720644356000</td><td>1720644361000</td><td>1720644356851</td><td>&quot;0xcefab6cf4208c94baa45c9a89034…</td><td>&quot;0x16b3161d563379e98cb3d8c900a5…</td><td>&quot;0xcefab6cf4208c94baa45c9a89034…</td><td>&quot;0x32e4a4176f4e59daf58d839e3950…</td><td>null</td><td>&quot;0x934d8a3d106f11c6f8489344ab3c…</td><td>&quot;0xbd54ee735979ef6679d2f1a7239f…</td><td>&quot;0x816a5e8e0435fc564cf4660f03ec…</td></tr><tr><td>43450</td><td>1902326</td><td>&quot;0x33cd093066bdb28d4ca7763d2d18…</td><td>1000000</td><td>&quot;0xf21b2308b84a60aca2066dcec6e9…</td><td>&quot;0xb36ab9e151aa930a076936774068…</td><td>true</td><td>1713804918616</td><td>1713899918616</td><td>1720646099117</td><td>&quot;0x4242e1bb97d29566abc955137ac2…</td><td>&quot;0x10a98c64dc5a9aea839a0ba06e76…</td><td>&quot;0x4242e1bb97d29566abc955137ac2…</td><td>&quot;0xa7b6aa50822c532f04d40cf53b98…</td><td>&quot;33cd093066bdb28d4ca7763d2d1800…</td><td>&quot;0x42f569a9547001a6e49b00f3a869…</td><td>&quot;0xe375a1267e797a58d6c9c4c569b1…</td><td>&quot;0x86652b263f8a1ff96e51873046a8…</td></tr><tr><td>42312</td><td>1902326</td><td>&quot;0x33cd093066bdb28d4ca7763d2d18…</td><td>1000000</td><td>&quot;0xf21b2308b84a60aca2066dcec6e9…</td><td>&quot;0xb36ab9e151aa930a076936774068…</td><td>true</td><td>1713804918616</td><td>1713899918616</td><td>1720645871354</td><td>&quot;0x5768437894f64345005d96fc2364…</td><td>&quot;0x12425143c52907f0bad184dd181d…</td><td>&quot;0x5768437894f64345005d96fc2364…</td><td>&quot;0x397f9dbb843c843e75c40de2590c…</td><td>&quot;33cd093066bdb28d4ca7763d2d1800…</td><td>&quot;0x42f569a9547001a6e49b00f3a869…</td><td>&quot;0xe375a1267e797a58d6c9c4c569b1…</td><td>&quot;0x9166fd00e8802464b6f4f6bdfa04…</td></tr><tr><td>59645</td><td>1902581</td><td>&quot;0x9a7a1323858277256562271ed40c…</td><td>1000000</td><td>&quot;0xf21b2308b84a60aca2066dcec6e9…</td><td>&quot;0x0843d1b51186c0ce10e1c139ff9b…</td><td>false</td><td>1713804918616</td><td>1713899918616</td><td>1720649337493</td><td>&quot;0x373dae04c49442b92fad747a0536…</td><td>&quot;0xbce70fbf314c30e35fbe7b19e7eb…</td><td>&quot;0x373dae04c49442b92fad747a0536…</td><td>&quot;0x07c8b7d362f11a6bf72c095661b7…</td><td>&quot;78d5f763c0811d1c6b5c17421d037d…</td><td>&quot;0x6add2a9a8fa1de774c9d6cf19411…</td><td>&quot;0xa652d153189fb195f9dc4fb24e3b…</td><td>&quot;0x9af0073541ea7995173218243be1…</td></tr><tr><td>&hellip;</td><td>&hellip;</td><td>&hellip;</td><td>&hellip;</td><td>&hellip;</td><td>&hellip;</td><td>&hellip;</td><td>&hellip;</td><td>&hellip;</td><td>&hellip;</td><td>&hellip;</td><td>&hellip;</td><td>&hellip;</td><td>&hellip;</td><td>&hellip;</td><td>&hellip;</td><td>&hellip;</td><td>&hellip;</td></tr><tr><td>9877795</td><td>2053256</td><td>&quot;0x70da05cbb8294c5413355f54014e…</td><td>1526401732756217</td><td>&quot;0x8280f34750068c67acf5366a5c7c…</td><td>&quot;0xdd29df542e8b507f01696b946d15…</td><td>false</td><td>1722612967497</td><td>1722612975497</td><td>1722612967892</td><td>&quot;0xa9918915dca07054216cc2cfc557…</td><td>&quot;0xa8b243f42c4d436b3cef060f8de5…</td><td>&quot;0xa9918915dca07054216cc2cfc557…</td><td>&quot;0xc66e22770b0559703c8118f7f748…</td><td>null</td><td>&quot;0x391dd3496eafa16f376d04dabbf2…</td><td>&quot;0x57f206acc4efff2fb095e551f1b1…</td><td>&quot;0x88e4cd2a50f8934df222c8fea03d…</td></tr><tr><td>9877780</td><td>2053256</td><td>&quot;0x0b252799231d9d0ee4dca6668471…</td><td>2640136866702717</td><td>&quot;0x8280f34750068c67acf5366a5c7c…</td><td>&quot;0xdd29df542e8b507f01696b946d15…</td><td>false</td><td>1722612964376</td><td>1722612972376</td><td>1722612964873</td><td>&quot;0xf034d92a7e3b32cc46d2f875f9b7…</td><td>&quot;0x5672a2bba4221528243932b5f586…</td><td>&quot;0xf034d92a7e3b32cc46d2f875f9b7…</td><td>&quot;0xa38d5c5c70400ee8d572c9d3c747…</td><td>null</td><td>&quot;0xab46d62c23bf961b07039b4d6d27…</td><td>&quot;0x1e56750f650e54c2763899990347…</td><td>&quot;0xc4b441aa59642c453691e7aba704…</td></tr><tr><td>9877917</td><td>2053258</td><td>&quot;0xcea4d214c8f6e4f3415fc941fdb6…</td><td>9434750283207862</td><td>&quot;0x8280f34750068c67acf5366a5c7c…</td><td>&quot;0xdd29df542e8b507f01696b946d15…</td><td>true</td><td>1722612992004</td><td>1722613000004</td><td>1722612992403</td><td>&quot;0x9291eab1171f72d3c8732a16e34f…</td><td>&quot;0xf0147ec7d868d87eca529a3ea030…</td><td>&quot;0x9291eab1171f72d3c8732a16e34f…</td><td>&quot;0x58bdca0e8dbd24bba3dcc44bf6be…</td><td>null</td><td>&quot;0x4e50e53f059456b1820ed4dc20ac…</td><td>&quot;0xca364e06e26faa03f4406ab2193b…</td><td>&quot;0xbe0df3c2243e35353ed2c5e072a5…</td></tr><tr><td>9877937</td><td>2053258</td><td>&quot;0x0a633f7256b38cfb45f1b0a82c92…</td><td>5763111881983950</td><td>&quot;0x8280f34750068c67acf5366a5c7c…</td><td>&quot;0xdd29df542e8b507f01696b946d15…</td><td>true</td><td>1722612995748</td><td>1722613003748</td><td>1722612996292</td><td>&quot;0xb15a794e1a45e95b37635ea5fe7b…</td><td>&quot;0x1744a9f6b62a230cea8381bf6e08…</td><td>&quot;0xb15a794e1a45e95b37635ea5fe7b…</td><td>&quot;0x7e601dae6b6972e8979eb01ee990…</td><td>null</td><td>&quot;0x6a0993803751d3ec7b8d30534413…</td><td>&quot;0xf51389866c9b5f7b0cb8cad277d7…</td><td>&quot;0xbb5619a309d129538e726dfb0844…</td></tr><tr><td>9888158</td><td>2053418</td><td>&quot;0x6ca81e979b85a86e35018da675a7…</td><td>6642356476213901</td><td>&quot;0x8280f34750068c67acf5366a5c7c…</td><td>&quot;0xdd29df542e8b507f01696b946d15…</td><td>true</td><td>1722615032030</td><td>1722615048030</td><td>1722615040445</td><td>&quot;0x6ab94b973dd63cfe5bb072176ba8…</td><td>&quot;0x40e3e7ae4b7357ee180588bc6e2a…</td><td>&quot;0x6ab94b973dd63cfe5bb072176ba8…</td><td>&quot;0x81cee963cfdfa66ff334f2c1bf47…</td><td>null</td><td>&quot;0x7918df522f70194ba64f7002ed3a…</td><td>&quot;0xa2165128cb73a2a78e878c62f327…</td><td>&quot;0xec7a707bd3616506220e571f9275…</td></tr></tbody></table></div>"
      ],
      "text/plain": [
       "shape: (1_230, 18)\n",
       "┌───────────┬───────────┬───────────┬───────────┬───┬───────────┬───────────┬───────────┬──────────┐\n",
       "│ block_num ┆ blockNumb ┆ txnHash   ┆ bid       ┆ … ┆ reverting ┆ bidHash   ┆ bidSignat ┆ sharedSe │\n",
       "│ ber       ┆ er        ┆ ---       ┆ ---       ┆   ┆ TxHashes  ┆ ---       ┆ ure       ┆ cretKey  │\n",
       "│ ---       ┆ ---       ┆ str       ┆ u64       ┆   ┆ ---       ┆ str       ┆ ---       ┆ ---      │\n",
       "│ u64       ┆ u64       ┆           ┆           ┆   ┆ str       ┆           ┆ str       ┆ str      │\n",
       "╞═══════════╪═══════════╪═══════════╪═══════════╪═══╪═══════════╪═══════════╪═══════════╪══════════╡\n",
       "│ 32287     ┆ 1902173   ┆ 0x33cd093 ┆ 1000000   ┆ … ┆ 33cd09306 ┆ 0x8d91b98 ┆ 0x1ad2601 ┆ 0x10bcc5 │\n",
       "│           ┆           ┆ 066bdb28d ┆           ┆   ┆ 6bdb28d4c ┆ 9ab5e6a1b ┆ 252417242 ┆ 7a0dd089 │\n",
       "│           ┆           ┆ 4ca7763d2 ┆           ┆   ┆ a7763d2d1 ┆ ab219eefd ┆ 993f1e022 ┆ d5c70150 │\n",
       "│           ┆           ┆ d18…      ┆           ┆   ┆ 800…      ┆ 469…      ┆ 97f…      ┆ 977be6…  │\n",
       "│ 34739     ┆ 1902203   ┆ 0x33cd093 ┆ 1000000   ┆ … ┆ null      ┆ 0x934d8a3 ┆ 0xbd54ee7 ┆ 0x816a5e │\n",
       "│           ┆           ┆ 066bdb28d ┆           ┆   ┆           ┆ d106f11c6 ┆ 35979ef66 ┆ 8e0435fc │\n",
       "│           ┆           ┆ 4ca7763d2 ┆           ┆   ┆           ┆ f8489344a ┆ 79d2f1a72 ┆ 564cf466 │\n",
       "│           ┆           ┆ d18…      ┆           ┆   ┆           ┆ b3c…      ┆ 39f…      ┆ 0f03ec…  │\n",
       "│ 43450     ┆ 1902326   ┆ 0x33cd093 ┆ 1000000   ┆ … ┆ 33cd09306 ┆ 0x42f569a ┆ 0xe375a12 ┆ 0x86652b │\n",
       "│           ┆           ┆ 066bdb28d ┆           ┆   ┆ 6bdb28d4c ┆ 9547001a6 ┆ 67e797a58 ┆ 263f8a1f │\n",
       "│           ┆           ┆ 4ca7763d2 ┆           ┆   ┆ a7763d2d1 ┆ e49b00f3a ┆ d6c9c4c56 ┆ f96e5187 │\n",
       "│           ┆           ┆ d18…      ┆           ┆   ┆ 800…      ┆ 869…      ┆ 9b1…      ┆ 3046a8…  │\n",
       "│ 42312     ┆ 1902326   ┆ 0x33cd093 ┆ 1000000   ┆ … ┆ 33cd09306 ┆ 0x42f569a ┆ 0xe375a12 ┆ 0x9166fd │\n",
       "│           ┆           ┆ 066bdb28d ┆           ┆   ┆ 6bdb28d4c ┆ 9547001a6 ┆ 67e797a58 ┆ 00e88024 │\n",
       "│           ┆           ┆ 4ca7763d2 ┆           ┆   ┆ a7763d2d1 ┆ e49b00f3a ┆ d6c9c4c56 ┆ 64b6f4f6 │\n",
       "│           ┆           ┆ d18…      ┆           ┆   ┆ 800…      ┆ 869…      ┆ 9b1…      ┆ bdfa04…  │\n",
       "│ 59645     ┆ 1902581   ┆ 0x9a7a132 ┆ 1000000   ┆ … ┆ 78d5f763c ┆ 0x6add2a9 ┆ 0xa652d15 ┆ 0x9af007 │\n",
       "│           ┆           ┆ 385827725 ┆           ┆   ┆ 0811d1c6b ┆ a8fa1de77 ┆ 3189fb195 ┆ 3541ea79 │\n",
       "│           ┆           ┆ 6562271ed ┆           ┆   ┆ 5c17421d0 ┆ 4c9d6cf19 ┆ f9dc4fb24 ┆ 95173218 │\n",
       "│           ┆           ┆ 40c…      ┆           ┆   ┆ 37d…      ┆ 411…      ┆ e3b…      ┆ 243be1…  │\n",
       "│ …         ┆ …         ┆ …         ┆ …         ┆ … ┆ …         ┆ …         ┆ …         ┆ …        │\n",
       "│ 9877795   ┆ 2053256   ┆ 0x70da05c ┆ 152640173 ┆ … ┆ null      ┆ 0x391dd34 ┆ 0x57f206a ┆ 0x88e4cd │\n",
       "│           ┆           ┆ bb8294c54 ┆ 2756217   ┆   ┆           ┆ 96eafa16f ┆ cc4efff2f ┆ 2a50f893 │\n",
       "│           ┆           ┆ 13355f540 ┆           ┆   ┆           ┆ 376d04dab ┆ b095e551f ┆ 4df222c8 │\n",
       "│           ┆           ┆ 14e…      ┆           ┆   ┆           ┆ bf2…      ┆ 1b1…      ┆ fea03d…  │\n",
       "│ 9877780   ┆ 2053256   ┆ 0x0b25279 ┆ 264013686 ┆ … ┆ null      ┆ 0xab46d62 ┆ 0x1e56750 ┆ 0xc4b441 │\n",
       "│           ┆           ┆ 9231d9d0e ┆ 6702717   ┆   ┆           ┆ c23bf961b ┆ f650e54c2 ┆ aa59642c │\n",
       "│           ┆           ┆ e4dca6668 ┆           ┆   ┆           ┆ 07039b4d6 ┆ 763899990 ┆ 453691e7 │\n",
       "│           ┆           ┆ 471…      ┆           ┆   ┆           ┆ d27…      ┆ 347…      ┆ aba704…  │\n",
       "│ 9877917   ┆ 2053258   ┆ 0xcea4d21 ┆ 943475028 ┆ … ┆ null      ┆ 0x4e50e53 ┆ 0xca364e0 ┆ 0xbe0df3 │\n",
       "│           ┆           ┆ 4c8f6e4f3 ┆ 3207862   ┆   ┆           ┆ f059456b1 ┆ 6e26faa03 ┆ c2243e35 │\n",
       "│           ┆           ┆ 415fc941f ┆           ┆   ┆           ┆ 820ed4dc2 ┆ f4406ab21 ┆ 353ed2c5 │\n",
       "│           ┆           ┆ db6…      ┆           ┆   ┆           ┆ 0ac…      ┆ 93b…      ┆ e072a5…  │\n",
       "│ 9877937   ┆ 2053258   ┆ 0x0a633f7 ┆ 576311188 ┆ … ┆ null      ┆ 0x6a09938 ┆ 0xf513898 ┆ 0xbb5619 │\n",
       "│           ┆           ┆ 256b38cfb ┆ 1983950   ┆   ┆           ┆ 03751d3ec ┆ 66c9b5f7b ┆ a309d129 │\n",
       "│           ┆           ┆ 45f1b0a82 ┆           ┆   ┆           ┆ 7b8d30534 ┆ 0cb8cad27 ┆ 538e726d │\n",
       "│           ┆           ┆ c92…      ┆           ┆   ┆           ┆ 413…      ┆ 7d7…      ┆ fb0844…  │\n",
       "│ 9888158   ┆ 2053418   ┆ 0x6ca81e9 ┆ 664235647 ┆ … ┆ null      ┆ 0x7918df5 ┆ 0xa216512 ┆ 0xec7a70 │\n",
       "│           ┆           ┆ 79b85a86e ┆ 6213901   ┆   ┆           ┆ 22f70194b ┆ 8cb73a2a7 ┆ 7bd36165 │\n",
       "│           ┆           ┆ 35018da67 ┆           ┆   ┆           ┆ a64f7002e ┆ 8e878c62f ┆ 06220e57 │\n",
       "│           ┆           ┆ 5a7…      ┆           ┆   ┆           ┆ d3a…      ┆ 327…      ┆ 1f9275…  │\n",
       "└───────────┴───────────┴───────────┴───────────┴───┴───────────┴───────────┴───────────┴──────────┘"
      ]
     },
     "execution_count": 9,
     "metadata": {},
     "output_type": "execute_result"
    }
   ],
   "source": [
    "df"
   ]
  },
  {
   "cell_type": "code",
   "execution_count": 4,
   "metadata": {},
   "outputs": [],
   "source": [
    "# sql command operates on an in-memory database so no tables are persisted to disk.\n",
    "latest_block = con.sql(\"SELECT MAX(block_number) FROM commitments_table\")"
   ]
  },
  {
   "cell_type": "code",
   "execution_count": 5,
   "metadata": {},
   "outputs": [
    {
     "data": {
      "text/plain": [
       "9888158"
      ]
     },
     "execution_count": 5,
     "metadata": {},
     "output_type": "execute_result"
    }
   ],
   "source": [
    "latest_block.fetchall()[0][0]"
   ]
  },
  {
   "cell_type": "code",
   "execution_count": 6,
   "metadata": {},
   "outputs": [
    {
     "data": {
      "text/plain": [
       "9888158"
      ]
     },
     "execution_count": 6,
     "metadata": {},
     "output_type": "execute_result"
    }
   ],
   "source": [
    "latest_block.fetchall()[0][0]"
   ]
  },
  {
   "cell_type": "code",
   "execution_count": null,
   "metadata": {},
   "outputs": [],
   "source": []
  }
 ],
 "metadata": {
  "kernelspec": {
   "display_name": ".venv",
   "language": "python",
   "name": "python3"
  },
  "language_info": {
   "codemirror_mode": {
    "name": "ipython",
    "version": 3
   },
   "file_extension": ".py",
   "mimetype": "text/x-python",
   "name": "python",
   "nbconvert_exporter": "python",
   "pygments_lexer": "ipython3",
   "version": "3.12.2"
  }
 },
 "nbformat": 4,
 "nbformat_minor": 2
}
