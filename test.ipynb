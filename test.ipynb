{
 "cells": [
  {
   "cell_type": "code",
   "execution_count": 1,
   "metadata": {},
   "outputs": [
    {
     "name": "stderr",
     "output_type": "stream",
     "text": [
      "/home/evan/Documents/lance_preconfs/.venv/lib/python3.12/site-packages/tqdm/auto.py:21: TqdmWarning: IProgress not found. Please update jupyter and ipywidgets. See https://ipywidgets.readthedocs.io/en/stable/user_install.html\n",
      "  from .autonotebook import tqdm as notebook_tqdm\n"
     ]
    }
   ],
   "source": [
    "import duckdb\n",
    "import polars as pl\n",
    "\n",
    "\n",
    "from hypersync import ColumnMapping, DataType, TransactionField, BlockField\n",
    "from lancedb_tables.lance_table import LanceTable\n",
    "from mev_commit_sdk_py.hypersync_client import Hypersync"
   ]
  },
  {
   "cell_type": "code",
   "execution_count": 2,
   "metadata": {},
   "outputs": [],
   "source": [
    "# Lance table info\n",
    "commitment_table_name = \"commitments\"\n",
    "index: str = \"block_number\"\n",
    "lance_tables = LanceTable()\n",
    "uri: str = \"data\"  # locally saved to \"data folder\"\n",
    "\n",
    "# open the database and get the latest block_number\n",
    "commitments_table = lance_tables.open_table(\n",
    "    uri=uri, table=commitment_table_name)\n",
    "\n",
    "# duckdb con creates a connection to a persistent database\n",
    "con = duckdb.connect()"
   ]
  },
  {
   "cell_type": "code",
   "execution_count": 3,
   "metadata": {},
   "outputs": [],
   "source": [
    "# commitments_table = commitments_table.to_lance()"
   ]
  },
  {
   "cell_type": "code",
   "execution_count": 5,
   "metadata": {},
   "outputs": [],
   "source": [
    "df = pl.from_arrow(commitments_table.to_lance().to_table()).filter(\n",
    "    pl.col('bidder') == '0xe51EF1836Dbef052BfFd2eB3Fe1314365d23129d'.lower())"
   ]
  },
  {
   "cell_type": "code",
   "execution_count": 17,
   "metadata": {},
   "outputs": [
    {
     "data": {
      "text/html": [
       "<div><style>\n",
       ".dataframe > thead > tr,\n",
       ".dataframe > tbody > tr {\n",
       "  text-align: right;\n",
       "  white-space: pre-wrap;\n",
       "}\n",
       "</style>\n",
       "<small>shape: (80, 18)</small><table border=\"1\" class=\"dataframe\"><thead><tr><th>block_number</th><th>blockNumber</th><th>txnHash</th><th>bid</th><th>commiter</th><th>bidder</th><th>isSlash</th><th>decayStartTimeStamp</th><th>decayEndTimeStamp</th><th>dispatchTimestamp</th><th>commitmentHash</th><th>commitmentIndex</th><th>commitmentDigest</th><th>commitmentSignature</th><th>revertingTxHashes</th><th>bidHash</th><th>bidSignature</th><th>sharedSecretKey</th></tr><tr><td>u64</td><td>u64</td><td>str</td><td>u64</td><td>str</td><td>str</td><td>bool</td><td>u64</td><td>u64</td><td>u64</td><td>str</td><td>str</td><td>str</td><td>str</td><td>str</td><td>str</td><td>str</td><td>str</td></tr></thead><tbody><tr><td>5605173</td><td>1987219</td><td>&quot;0x03681c4c27b258b67a31bfd6b2c4…</td><td>1000000000000000</td><td>&quot;0x8280f34750068c67acf5366a5c7c…</td><td>&quot;0xe51ef1836dbef052bffd2eb3fe13…</td><td>false</td><td>1721758435228</td><td>1721758451228</td><td>1721758443574</td><td>&quot;0xce9d39bce0ac76ba57ff17d4ffaf…</td><td>&quot;0xe2ffb4497f60432439777ea9d5aa…</td><td>&quot;0xce9d39bce0ac76ba57ff17d4ffaf…</td><td>&quot;0x87f401f082aacbf2f6568870bb97…</td><td>null</td><td>&quot;0x804bf5edafa89084d23db5fba86a…</td><td>&quot;0x3fd4cf0dc7f2273f413498eabf07…</td><td>&quot;0x3a7f00a7686978ce0c6aa835747f…</td></tr><tr><td>8144356</td><td>2026430</td><td>&quot;0xc6591fbffcf7bad9bde97314095e…</td><td>100000000000000000</td><td>&quot;0x8280f34750068c67acf5366a5c7c…</td><td>&quot;0xe51ef1836dbef052bffd2eb3fe13…</td><td>false</td><td>1722266279629</td><td>1722266279729</td><td>1722266280079</td><td>&quot;0x85b047afff9f9def0bc680f13a8c…</td><td>&quot;0x6ba3b8e97e13822287552e1aec7a…</td><td>&quot;0x85b047afff9f9def0bc680f13a8c…</td><td>&quot;0x89d75240648cb5c3d4d11882ce74…</td><td>null</td><td>&quot;0x01fdb72e28985070ef2a812ac904…</td><td>&quot;0x580add5ae0b3fd8c729f41ddd8d5…</td><td>&quot;0x36770305045dfc4c959e5749378b…</td></tr><tr><td>8145665</td><td>2026452</td><td>&quot;0x17150dc9d1bfb49c8dd0932fa3c5…</td><td>100000000000000000</td><td>&quot;0x8280f34750068c67acf5366a5c7c…</td><td>&quot;0xe51ef1836dbef052bffd2eb3fe13…</td><td>false</td><td>1722266541548</td><td>1722266541648</td><td>1722266541833</td><td>&quot;0x637e773f44f0b3448800cac6a444…</td><td>&quot;0x132de071d119ac8cffd4eb586f43…</td><td>&quot;0x637e773f44f0b3448800cac6a444…</td><td>&quot;0x283672150618951150558f3b7d7b…</td><td>null</td><td>&quot;0x52b9dbee8b46e773943a71dc479a…</td><td>&quot;0xc2c4d88bacd28ac0024acedc901f…</td><td>&quot;0x775cd732a8ec9a836024342dd604…</td></tr><tr><td>8146294</td><td>2026463</td><td>&quot;0x862e3e4a95dc9e1618c56586b743…</td><td>100000000000000000</td><td>&quot;0x8280f34750068c67acf5366a5c7c…</td><td>&quot;0xe51ef1836dbef052bffd2eb3fe13…</td><td>false</td><td>1722266667403</td><td>1722266667503</td><td>1722266667685</td><td>&quot;0xeb918cd8048da68da534463950ae…</td><td>&quot;0x9e82d956a15c54ec92e47de23dd7…</td><td>&quot;0xeb918cd8048da68da534463950ae…</td><td>&quot;0xf79008cd17a93ecf194478878769…</td><td>null</td><td>&quot;0xefd06c539425c351d51ced905f34…</td><td>&quot;0x06ea51abab226eba4a4b73a69bca…</td><td>&quot;0x873bc2f9a8299b85031853261200…</td></tr><tr><td>8147235</td><td>2026478</td><td>&quot;0xf665cf962886c49c4bec0417f719…</td><td>100000000000000000</td><td>&quot;0x8280f34750068c67acf5366a5c7c…</td><td>&quot;0xe51ef1836dbef052bffd2eb3fe13…</td><td>false</td><td>1722266855688</td><td>1722266855788</td><td>1722266855972</td><td>&quot;0x88e441a3b29d349b2b590ae1eb4b…</td><td>&quot;0xcceaa57209862fa50da9ec07bbc7…</td><td>&quot;0x88e441a3b29d349b2b590ae1eb4b…</td><td>&quot;0x1bc9fd2a25a2957afe8668fa44e2…</td><td>null</td><td>&quot;0xf98681ca197fafefdcd5701ddb12…</td><td>&quot;0xfb2fad1a155725550f235f364a64…</td><td>&quot;0x6d388f87d8bef241435bbc9211fa…</td></tr><tr><td>&hellip;</td><td>&hellip;</td><td>&hellip;</td><td>&hellip;</td><td>&hellip;</td><td>&hellip;</td><td>&hellip;</td><td>&hellip;</td><td>&hellip;</td><td>&hellip;</td><td>&hellip;</td><td>&hellip;</td><td>&hellip;</td><td>&hellip;</td><td>&hellip;</td><td>&hellip;</td><td>&hellip;</td><td>&hellip;</td></tr><tr><td>9190611</td><td>2042601</td><td>&quot;0xdd6d7f079240fc34e527cb71a06c…</td><td>25000000000000000</td><td>&quot;0x8280f34750068c67acf5366a5c7c…</td><td>&quot;0xe51ef1836dbef052bffd2eb3fe13…</td><td>false</td><td>1722475530983</td><td>1722475538983</td><td>1722475531210</td><td>&quot;0x481ee946ec21ef0edb3b7700cf9e…</td><td>&quot;0x475bdd473bbc3f6b5dad71f36bd6…</td><td>&quot;0x481ee946ec21ef0edb3b7700cf9e…</td><td>&quot;0x36f808f17f42b938ba160b17031d…</td><td>null</td><td>&quot;0x2a4cca87a8c8901d25cc888bd7cf…</td><td>&quot;0xbda5b9dbb9d8d8dd8ad511b1990f…</td><td>&quot;0xe6e00a42199670bdbfb6bc904dd4…</td></tr><tr><td>9191264</td><td>2042611</td><td>&quot;0x06d4d64fc20ed1d8426fa3162bff…</td><td>25000000000000000</td><td>&quot;0x8280f34750068c67acf5366a5c7c…</td><td>&quot;0xe51ef1836dbef052bffd2eb3fe13…</td><td>false</td><td>1722475661043</td><td>1722475669043</td><td>1722475661273</td><td>&quot;0x7d70940964513db188087b6a7722…</td><td>&quot;0x6c87d177e27b6e10a80c75d001ae…</td><td>&quot;0x7d70940964513db188087b6a7722…</td><td>&quot;0x9218d39286b6df88cf477a2afcde…</td><td>null</td><td>&quot;0x44964b04322af3362da4dbc1a2b3…</td><td>&quot;0x54cd634dec891d6c655afbd5e9c0…</td><td>&quot;0xdfed3607c7ed93d0384a6b86bb48…</td></tr><tr><td>9191911</td><td>2042621</td><td>&quot;0x9aa808eccdd157fa2235b848e3a1…</td><td>25000000000000000</td><td>&quot;0x8280f34750068c67acf5366a5c7c…</td><td>&quot;0xe51ef1836dbef052bffd2eb3fe13…</td><td>false</td><td>1722475790828</td><td>1722475798828</td><td>1722475791056</td><td>&quot;0x45cee948115407d0a38f05935f44…</td><td>&quot;0x8c0793529f427025ffe08bf1f57c…</td><td>&quot;0x45cee948115407d0a38f05935f44…</td><td>&quot;0xa20c12e8ba420c7abefb11cd8548…</td><td>null</td><td>&quot;0x8b2c09f2d58cf9225655a62129be…</td><td>&quot;0x980c73f1566721c895507fa081da…</td><td>&quot;0x32dda64ebc48639347c9c105eb2b…</td></tr><tr><td>9192239</td><td>2042626</td><td>&quot;0x058a5f6fb8f841ad8c2ccf712c37…</td><td>25000000000000000</td><td>&quot;0x8280f34750068c67acf5366a5c7c…</td><td>&quot;0xe51ef1836dbef052bffd2eb3fe13…</td><td>false</td><td>1722475856051</td><td>1722475864051</td><td>1722475856283</td><td>&quot;0xf816bc06f09fa11b7cb88dcd53dd…</td><td>&quot;0xf30d5cb743276f999ff04466b522…</td><td>&quot;0xf816bc06f09fa11b7cb88dcd53dd…</td><td>&quot;0x62d9a10e3637310a86e161175d46…</td><td>null</td><td>&quot;0xbea8c5461bd78596496c4e16ac6b…</td><td>&quot;0xc3e529aff4f0eaa811a962046eff…</td><td>&quot;0x6fa57ad9e3f9dd49cbe9f320efd3…</td></tr><tr><td>9193370</td><td>2042642</td><td>&quot;0x89b59c580a247b39670c8a27cdc4…</td><td>25000000000000000</td><td>&quot;0x8280f34750068c67acf5366a5c7c…</td><td>&quot;0xe51ef1836dbef052bffd2eb3fe13…</td><td>false</td><td>1722476082590</td><td>1722476090590</td><td>1722476082831</td><td>&quot;0xa9f22855a4385f58552c6271e4a1…</td><td>&quot;0x71cfcc374227faab14c42eb720a0…</td><td>&quot;0xa9f22855a4385f58552c6271e4a1…</td><td>&quot;0xcf6c61c2d46b2e492caeead5e296…</td><td>null</td><td>&quot;0x38ef34877c3d1f211caaf8d172ce…</td><td>&quot;0xcfa54680d5404a3a00fc04fffb14…</td><td>&quot;0xa061ee64e248f1ce8bc4b88ba6dd…</td></tr></tbody></table></div>"
      ],
      "text/plain": [
       "shape: (80, 18)\n",
       "┌───────────┬───────────┬───────────┬───────────┬───┬───────────┬───────────┬───────────┬──────────┐\n",
       "│ block_num ┆ blockNumb ┆ txnHash   ┆ bid       ┆ … ┆ reverting ┆ bidHash   ┆ bidSignat ┆ sharedSe │\n",
       "│ ber       ┆ er        ┆ ---       ┆ ---       ┆   ┆ TxHashes  ┆ ---       ┆ ure       ┆ cretKey  │\n",
       "│ ---       ┆ ---       ┆ str       ┆ u64       ┆   ┆ ---       ┆ str       ┆ ---       ┆ ---      │\n",
       "│ u64       ┆ u64       ┆           ┆           ┆   ┆ str       ┆           ┆ str       ┆ str      │\n",
       "╞═══════════╪═══════════╪═══════════╪═══════════╪═══╪═══════════╪═══════════╪═══════════╪══════════╡\n",
       "│ 5605173   ┆ 1987219   ┆ 0x03681c4 ┆ 100000000 ┆ … ┆ null      ┆ 0x804bf5e ┆ 0x3fd4cf0 ┆ 0x3a7f00 │\n",
       "│           ┆           ┆ c27b258b6 ┆ 0000000   ┆   ┆           ┆ dafa89084 ┆ dc7f2273f ┆ a7686978 │\n",
       "│           ┆           ┆ 7a31bfd6b ┆           ┆   ┆           ┆ d23db5fba ┆ 413498eab ┆ ce0c6aa8 │\n",
       "│           ┆           ┆ 2c4…      ┆           ┆   ┆           ┆ 86a…      ┆ f07…      ┆ 35747f…  │\n",
       "│ 8144356   ┆ 2026430   ┆ 0xc6591fb ┆ 100000000 ┆ … ┆ null      ┆ 0x01fdb72 ┆ 0x580add5 ┆ 0x367703 │\n",
       "│           ┆           ┆ ffcf7bad9 ┆ 000000000 ┆   ┆           ┆ e28985070 ┆ ae0b3fd8c ┆ 05045dfc │\n",
       "│           ┆           ┆ bde973140 ┆           ┆   ┆           ┆ ef2a812ac ┆ 729f41ddd ┆ 4c959e57 │\n",
       "│           ┆           ┆ 95e…      ┆           ┆   ┆           ┆ 904…      ┆ 8d5…      ┆ 49378b…  │\n",
       "│ 8145665   ┆ 2026452   ┆ 0x17150dc ┆ 100000000 ┆ … ┆ null      ┆ 0x52b9dbe ┆ 0xc2c4d88 ┆ 0x775cd7 │\n",
       "│           ┆           ┆ 9d1bfb49c ┆ 000000000 ┆   ┆           ┆ e8b46e773 ┆ bacd28ac0 ┆ 32a8ec9a │\n",
       "│           ┆           ┆ 8dd0932fa ┆           ┆   ┆           ┆ 943a71dc4 ┆ 024acedc9 ┆ 83602434 │\n",
       "│           ┆           ┆ 3c5…      ┆           ┆   ┆           ┆ 79a…      ┆ 01f…      ┆ 2dd604…  │\n",
       "│ 8146294   ┆ 2026463   ┆ 0x862e3e4 ┆ 100000000 ┆ … ┆ null      ┆ 0xefd06c5 ┆ 0x06ea51a ┆ 0x873bc2 │\n",
       "│           ┆           ┆ a95dc9e16 ┆ 000000000 ┆   ┆           ┆ 39425c351 ┆ bab226eba ┆ f9a8299b │\n",
       "│           ┆           ┆ 18c56586b ┆           ┆   ┆           ┆ d51ced905 ┆ 4a4b73a69 ┆ 85031853 │\n",
       "│           ┆           ┆ 743…      ┆           ┆   ┆           ┆ f34…      ┆ bca…      ┆ 261200…  │\n",
       "│ 8147235   ┆ 2026478   ┆ 0xf665cf9 ┆ 100000000 ┆ … ┆ null      ┆ 0xf98681c ┆ 0xfb2fad1 ┆ 0x6d388f │\n",
       "│           ┆           ┆ 62886c49c ┆ 000000000 ┆   ┆           ┆ a197fafef ┆ a15572555 ┆ 87d8bef2 │\n",
       "│           ┆           ┆ 4bec0417f ┆           ┆   ┆           ┆ dcd5701dd ┆ 0f235f364 ┆ 41435bbc │\n",
       "│           ┆           ┆ 719…      ┆           ┆   ┆           ┆ b12…      ┆ a64…      ┆ 9211fa…  │\n",
       "│ …         ┆ …         ┆ …         ┆ …         ┆ … ┆ …         ┆ …         ┆ …         ┆ …        │\n",
       "│ 9190611   ┆ 2042601   ┆ 0xdd6d7f0 ┆ 250000000 ┆ … ┆ null      ┆ 0x2a4cca8 ┆ 0xbda5b9d ┆ 0xe6e00a │\n",
       "│           ┆           ┆ 79240fc34 ┆ 00000000  ┆   ┆           ┆ 7a8c8901d ┆ bb9d8d8dd ┆ 42199670 │\n",
       "│           ┆           ┆ e527cb71a ┆           ┆   ┆           ┆ 25cc888bd ┆ 8ad511b19 ┆ bdbfb6bc │\n",
       "│           ┆           ┆ 06c…      ┆           ┆   ┆           ┆ 7cf…      ┆ 90f…      ┆ 904dd4…  │\n",
       "│ 9191264   ┆ 2042611   ┆ 0x06d4d64 ┆ 250000000 ┆ … ┆ null      ┆ 0x44964b0 ┆ 0x54cd634 ┆ 0xdfed36 │\n",
       "│           ┆           ┆ fc20ed1d8 ┆ 00000000  ┆   ┆           ┆ 4322af336 ┆ dec891d6c ┆ 07c7ed93 │\n",
       "│           ┆           ┆ 426fa3162 ┆           ┆   ┆           ┆ 2da4dbc1a ┆ 655afbd5e ┆ d0384a6b │\n",
       "│           ┆           ┆ bff…      ┆           ┆   ┆           ┆ 2b3…      ┆ 9c0…      ┆ 86bb48…  │\n",
       "│ 9191911   ┆ 2042621   ┆ 0x9aa808e ┆ 250000000 ┆ … ┆ null      ┆ 0x8b2c09f ┆ 0x980c73f ┆ 0x32dda6 │\n",
       "│           ┆           ┆ ccdd157fa ┆ 00000000  ┆   ┆           ┆ 2d58cf922 ┆ 1566721c8 ┆ 4ebc4863 │\n",
       "│           ┆           ┆ 2235b848e ┆           ┆   ┆           ┆ 5655a6212 ┆ 95507fa08 ┆ 9347c9c1 │\n",
       "│           ┆           ┆ 3a1…      ┆           ┆   ┆           ┆ 9be…      ┆ 1da…      ┆ 05eb2b…  │\n",
       "│ 9192239   ┆ 2042626   ┆ 0x058a5f6 ┆ 250000000 ┆ … ┆ null      ┆ 0xbea8c54 ┆ 0xc3e529a ┆ 0x6fa57a │\n",
       "│           ┆           ┆ fb8f841ad ┆ 00000000  ┆   ┆           ┆ 61bd78596 ┆ ff4f0eaa8 ┆ d9e3f9dd │\n",
       "│           ┆           ┆ 8c2ccf712 ┆           ┆   ┆           ┆ 496c4e16a ┆ 11a962046 ┆ 49cbe9f3 │\n",
       "│           ┆           ┆ c37…      ┆           ┆   ┆           ┆ c6b…      ┆ eff…      ┆ 20efd3…  │\n",
       "│ 9193370   ┆ 2042642   ┆ 0x89b59c5 ┆ 250000000 ┆ … ┆ null      ┆ 0x38ef348 ┆ 0xcfa5468 ┆ 0xa061ee │\n",
       "│           ┆           ┆ 80a247b39 ┆ 00000000  ┆   ┆           ┆ 77c3d1f21 ┆ 0d5404a3a ┆ 64e248f1 │\n",
       "│           ┆           ┆ 670c8a27c ┆           ┆   ┆           ┆ 1caaf8d17 ┆ 00fc04fff ┆ ce8bc4b8 │\n",
       "│           ┆           ┆ dc4…      ┆           ┆   ┆           ┆ 2ce…      ┆ b14…      ┆ 8ba6dd…  │\n",
       "└───────────┴───────────┴───────────┴───────────┴───┴───────────┴───────────┴───────────┴──────────┘"
      ]
     },
     "execution_count": 17,
     "metadata": {},
     "output_type": "execute_result"
    }
   ],
   "source": [
    "df"
   ]
  },
  {
   "cell_type": "code",
   "execution_count": 6,
   "metadata": {},
   "outputs": [],
   "source": [
    "# sql command operates on an in-memory database so no tables are persisted to disk.\n",
    "latest_block = con.sql(\"SELECT MAX(block_number) FROM commitments_table\")"
   ]
  },
  {
   "cell_type": "code",
   "execution_count": 7,
   "metadata": {},
   "outputs": [
    {
     "data": {
      "text/plain": [
       "9888158"
      ]
     },
     "execution_count": 7,
     "metadata": {},
     "output_type": "execute_result"
    }
   ],
   "source": [
    "latest_block.fetchall()[0][0]"
   ]
  },
  {
   "cell_type": "code",
   "execution_count": 25,
   "metadata": {},
   "outputs": [],
   "source": [
    "bidder_addr: str = \"0xe51EF1836Dbef052BfFd2eB3Fe1314365d23129d\".lower()\n",
    "# Fetch data for the specific bidder\n",
    "query = f\"SELECT bidder, isSlash, bidHash FROM commitments_table WHERE bidder = '{\n",
    "    bidder_addr}'\""
   ]
  },
  {
   "cell_type": "code",
   "execution_count": 26,
   "metadata": {},
   "outputs": [
    {
     "ename": "InvalidInputException",
     "evalue": "Invalid Input Error: Attempting to execute an unsuccessful or closed pending query result\nError: Invalid Error: OSError: LanceError(IO): This feature is not implemented: Extension type not supported: ExtensionType(ExtensionType { extension_uri_reference: 52, type_anchor: 0, name: \"u64\" }), /home/runner/work/lance/lance/rust/lance-datafusion/src/expr.rs:550:9\n\nAt:\n  /home/evan/Documents/lance_preconfs/.venv/lib/python3.12/site-packages/lance/dataset.py(2309): to_scanner\n  /home/evan/Documents/lance_preconfs/.venv/lib/python3.12/site-packages/lance/dataset.py(357): scanner\n  /tmp/ipykernel_73562/796473934.py(1): <module>\n  /home/evan/Documents/lance_preconfs/.venv/lib/python3.12/site-packages/IPython/core/interactiveshell.py(3577): run_code\n  /home/evan/Documents/lance_preconfs/.venv/lib/python3.12/site-packages/IPython/core/interactiveshell.py(3517): run_ast_nodes\n  /home/evan/Documents/lance_preconfs/.venv/lib/python3.12/site-packages/IPython/core/interactiveshell.py(3334): run_cell_async\n  /home/evan/Documents/lance_preconfs/.venv/lib/python3.12/site-packages/IPython/core/async_helpers.py(128): _pseudo_sync_runner\n  /home/evan/Documents/lance_preconfs/.venv/lib/python3.12/site-packages/IPython/core/interactiveshell.py(3130): _run_cell\n  /home/evan/Documents/lance_preconfs/.venv/lib/python3.12/site-packages/IPython/core/interactiveshell.py(3075): run_cell\n  /home/evan/Documents/lance_preconfs/.venv/lib/python3.12/site-packages/ipykernel/zmqshell.py(549): run_cell\n  /home/evan/Documents/lance_preconfs/.venv/lib/python3.12/site-packages/ipykernel/ipkernel.py(449): do_execute\n  /home/evan/Documents/lance_preconfs/.venv/lib/python3.12/site-packages/ipykernel/kernelbase.py(778): execute_request\n  /home/evan/Documents/lance_preconfs/.venv/lib/python3.12/site-packages/ipykernel/ipkernel.py(362): execute_request\n  /home/evan/Documents/lance_preconfs/.venv/lib/python3.12/site-packages/ipykernel/kernelbase.py(437): dispatch_shell\n  /home/evan/Documents/lance_preconfs/.venv/lib/python3.12/site-packages/ipykernel/kernelbase.py(534): process_one\n  /home/evan/Documents/lance_preconfs/.venv/lib/python3.12/site-packages/ipykernel/kernelbase.py(545): dispatch_queue\n  /home/evan/.rye/py/cpython@3.12.2/install/lib/python3.12/asyncio/events.py(88): _run\n  /home/evan/.rye/py/cpython@3.12.2/install/lib/python3.12/asyncio/base_events.py(1985): _run_once\n  /home/evan/.rye/py/cpython@3.12.2/install/lib/python3.12/asyncio/base_events.py(639): run_forever\n  /home/evan/Documents/lance_preconfs/.venv/lib/python3.12/site-packages/tornado/platform/asyncio.py(205): start\n  /home/evan/Documents/lance_preconfs/.venv/lib/python3.12/site-packages/ipykernel/kernelapp.py(739): start\n  /home/evan/Documents/lance_preconfs/.venv/lib/python3.12/site-packages/traitlets/config/application.py(1075): launch_instance\n  /home/evan/Documents/lance_preconfs/.venv/lib/python3.12/site-packages/ipykernel_launcher.py(18): <module>\n  <frozen runpy>(88): _run_code\n  <frozen runpy>(198): _run_module_as_main\n",
     "output_type": "error",
     "traceback": [
      "\u001b[0;31m---------------------------------------------------------------------------\u001b[0m",
      "\u001b[0;31mInvalidInputException\u001b[0m                     Traceback (most recent call last)",
      "Cell \u001b[0;32mIn[26], line 1\u001b[0m\n\u001b[0;32m----> 1\u001b[0m bidder_data \u001b[38;5;241m=\u001b[39m \u001b[43mcon\u001b[49m\u001b[38;5;241;43m.\u001b[39;49m\u001b[43msql\u001b[49m\u001b[43m(\u001b[49m\u001b[43mquery\u001b[49m\u001b[43m)\u001b[49m\u001b[38;5;241;43m.\u001b[39;49m\u001b[43mfetchall\u001b[49m\u001b[43m(\u001b[49m\u001b[43m)\u001b[49m\n",
      "\u001b[0;31mInvalidInputException\u001b[0m: Invalid Input Error: Attempting to execute an unsuccessful or closed pending query result\nError: Invalid Error: OSError: LanceError(IO): This feature is not implemented: Extension type not supported: ExtensionType(ExtensionType { extension_uri_reference: 52, type_anchor: 0, name: \"u64\" }), /home/runner/work/lance/lance/rust/lance-datafusion/src/expr.rs:550:9\n\nAt:\n  /home/evan/Documents/lance_preconfs/.venv/lib/python3.12/site-packages/lance/dataset.py(2309): to_scanner\n  /home/evan/Documents/lance_preconfs/.venv/lib/python3.12/site-packages/lance/dataset.py(357): scanner\n  /tmp/ipykernel_73562/796473934.py(1): <module>\n  /home/evan/Documents/lance_preconfs/.venv/lib/python3.12/site-packages/IPython/core/interactiveshell.py(3577): run_code\n  /home/evan/Documents/lance_preconfs/.venv/lib/python3.12/site-packages/IPython/core/interactiveshell.py(3517): run_ast_nodes\n  /home/evan/Documents/lance_preconfs/.venv/lib/python3.12/site-packages/IPython/core/interactiveshell.py(3334): run_cell_async\n  /home/evan/Documents/lance_preconfs/.venv/lib/python3.12/site-packages/IPython/core/async_helpers.py(128): _pseudo_sync_runner\n  /home/evan/Documents/lance_preconfs/.venv/lib/python3.12/site-packages/IPython/core/interactiveshell.py(3130): _run_cell\n  /home/evan/Documents/lance_preconfs/.venv/lib/python3.12/site-packages/IPython/core/interactiveshell.py(3075): run_cell\n  /home/evan/Documents/lance_preconfs/.venv/lib/python3.12/site-packages/ipykernel/zmqshell.py(549): run_cell\n  /home/evan/Documents/lance_preconfs/.venv/lib/python3.12/site-packages/ipykernel/ipkernel.py(449): do_execute\n  /home/evan/Documents/lance_preconfs/.venv/lib/python3.12/site-packages/ipykernel/kernelbase.py(778): execute_request\n  /home/evan/Documents/lance_preconfs/.venv/lib/python3.12/site-packages/ipykernel/ipkernel.py(362): execute_request\n  /home/evan/Documents/lance_preconfs/.venv/lib/python3.12/site-packages/ipykernel/kernelbase.py(437): dispatch_shell\n  /home/evan/Documents/lance_preconfs/.venv/lib/python3.12/site-packages/ipykernel/kernelbase.py(534): process_one\n  /home/evan/Documents/lance_preconfs/.venv/lib/python3.12/site-packages/ipykernel/kernelbase.py(545): dispatch_queue\n  /home/evan/.rye/py/cpython@3.12.2/install/lib/python3.12/asyncio/events.py(88): _run\n  /home/evan/.rye/py/cpython@3.12.2/install/lib/python3.12/asyncio/base_events.py(1985): _run_once\n  /home/evan/.rye/py/cpython@3.12.2/install/lib/python3.12/asyncio/base_events.py(639): run_forever\n  /home/evan/Documents/lance_preconfs/.venv/lib/python3.12/site-packages/tornado/platform/asyncio.py(205): start\n  /home/evan/Documents/lance_preconfs/.venv/lib/python3.12/site-packages/ipykernel/kernelapp.py(739): start\n  /home/evan/Documents/lance_preconfs/.venv/lib/python3.12/site-packages/traitlets/config/application.py(1075): launch_instance\n  /home/evan/Documents/lance_preconfs/.venv/lib/python3.12/site-packages/ipykernel_launcher.py(18): <module>\n  <frozen runpy>(88): _run_code\n  <frozen runpy>(198): _run_module_as_main\n"
     ]
    }
   ],
   "source": [
    "bidder_data = con.sql(query).fetchall()"
   ]
  },
  {
   "cell_type": "code",
   "execution_count": 27,
   "metadata": {},
   "outputs": [
    {
     "ename": "InvalidInputException",
     "evalue": "Invalid Input Error: Attempting to execute an unsuccessful or closed pending query result\nError: Invalid Error: OSError: LanceError(IO): This feature is not implemented: Extension type not supported: ExtensionType(ExtensionType { extension_uri_reference: 52, type_anchor: 0, name: \"u64\" }), /home/runner/work/lance/lance/rust/lance-datafusion/src/expr.rs:550:9\n\nAt:\n  /home/evan/Documents/lance_preconfs/.venv/lib/python3.12/site-packages/lance/dataset.py(2309): to_scanner\n  /home/evan/Documents/lance_preconfs/.venv/lib/python3.12/site-packages/lance/dataset.py(357): scanner\n  /home/evan/Documents/lance_preconfs/.venv/lib/python3.12/site-packages/IPython/lib/pretty.py(787): _repr_pprint\n  /home/evan/Documents/lance_preconfs/.venv/lib/python3.12/site-packages/IPython/lib/pretty.py(419): pretty\n  /home/evan/Documents/lance_preconfs/.venv/lib/python3.12/site-packages/IPython/core/formatters.py(711): __call__\n  /home/evan/Documents/lance_preconfs/.venv/lib/python3.12/site-packages/IPython/core/formatters.py(226): catch_format_error\n  /home/evan/Documents/lance_preconfs/.venv/lib/python3.12/site-packages/decorator.py(232): fun\n  /home/evan/Documents/lance_preconfs/.venv/lib/python3.12/site-packages/IPython/core/formatters.py(182): format\n  /home/evan/Documents/lance_preconfs/.venv/lib/python3.12/site-packages/IPython/core/displayhook.py(157): compute_format_data\n  /home/evan/Documents/lance_preconfs/.venv/lib/python3.12/site-packages/IPython/core/displayhook.py(268): __call__\n  /tmp/ipykernel_73562/997008423.py(1): <module>\n  /home/evan/Documents/lance_preconfs/.venv/lib/python3.12/site-packages/IPython/core/interactiveshell.py(3577): run_code\n  /home/evan/Documents/lance_preconfs/.venv/lib/python3.12/site-packages/IPython/core/interactiveshell.py(3517): run_ast_nodes\n  /home/evan/Documents/lance_preconfs/.venv/lib/python3.12/site-packages/IPython/core/interactiveshell.py(3334): run_cell_async\n  /home/evan/Documents/lance_preconfs/.venv/lib/python3.12/site-packages/IPython/core/async_helpers.py(128): _pseudo_sync_runner\n  /home/evan/Documents/lance_preconfs/.venv/lib/python3.12/site-packages/IPython/core/interactiveshell.py(3130): _run_cell\n  /home/evan/Documents/lance_preconfs/.venv/lib/python3.12/site-packages/IPython/core/interactiveshell.py(3075): run_cell\n  /home/evan/Documents/lance_preconfs/.venv/lib/python3.12/site-packages/ipykernel/zmqshell.py(549): run_cell\n  /home/evan/Documents/lance_preconfs/.venv/lib/python3.12/site-packages/ipykernel/ipkernel.py(449): do_execute\n  /home/evan/Documents/lance_preconfs/.venv/lib/python3.12/site-packages/ipykernel/kernelbase.py(778): execute_request\n  /home/evan/Documents/lance_preconfs/.venv/lib/python3.12/site-packages/ipykernel/ipkernel.py(362): execute_request\n  /home/evan/Documents/lance_preconfs/.venv/lib/python3.12/site-packages/ipykernel/kernelbase.py(437): dispatch_shell\n  /home/evan/Documents/lance_preconfs/.venv/lib/python3.12/site-packages/ipykernel/kernelbase.py(534): process_one\n  /home/evan/Documents/lance_preconfs/.venv/lib/python3.12/site-packages/ipykernel/kernelbase.py(545): dispatch_queue\n  /home/evan/.rye/py/cpython@3.12.2/install/lib/python3.12/asyncio/events.py(88): _run\n  /home/evan/.rye/py/cpython@3.12.2/install/lib/python3.12/asyncio/base_events.py(1985): _run_once\n  /home/evan/.rye/py/cpython@3.12.2/install/lib/python3.12/asyncio/base_events.py(639): run_forever\n  /home/evan/Documents/lance_preconfs/.venv/lib/python3.12/site-packages/tornado/platform/asyncio.py(205): start\n  /home/evan/Documents/lance_preconfs/.venv/lib/python3.12/site-packages/ipykernel/kernelapp.py(739): start\n  /home/evan/Documents/lance_preconfs/.venv/lib/python3.12/site-packages/traitlets/config/application.py(1075): launch_instance\n  /home/evan/Documents/lance_preconfs/.venv/lib/python3.12/site-packages/ipykernel_launcher.py(18): <module>\n  <frozen runpy>(88): _run_code\n  <frozen runpy>(198): _run_module_as_main\n",
     "output_type": "error",
     "traceback": [
      "\u001b[0;31m---------------------------------------------------------------------------\u001b[0m",
      "\u001b[0;31mInvalidInputException\u001b[0m                     Traceback (most recent call last)",
      "File \u001b[0;32m~/Documents/lance_preconfs/.venv/lib/python3.12/site-packages/IPython/core/formatters.py:711\u001b[0m, in \u001b[0;36mPlainTextFormatter.__call__\u001b[0;34m(self, obj)\u001b[0m\n\u001b[1;32m    704\u001b[0m stream \u001b[38;5;241m=\u001b[39m StringIO()\n\u001b[1;32m    705\u001b[0m printer \u001b[38;5;241m=\u001b[39m pretty\u001b[38;5;241m.\u001b[39mRepresentationPrinter(stream, \u001b[38;5;28mself\u001b[39m\u001b[38;5;241m.\u001b[39mverbose,\n\u001b[1;32m    706\u001b[0m     \u001b[38;5;28mself\u001b[39m\u001b[38;5;241m.\u001b[39mmax_width, \u001b[38;5;28mself\u001b[39m\u001b[38;5;241m.\u001b[39mnewline,\n\u001b[1;32m    707\u001b[0m     max_seq_length\u001b[38;5;241m=\u001b[39m\u001b[38;5;28mself\u001b[39m\u001b[38;5;241m.\u001b[39mmax_seq_length,\n\u001b[1;32m    708\u001b[0m     singleton_pprinters\u001b[38;5;241m=\u001b[39m\u001b[38;5;28mself\u001b[39m\u001b[38;5;241m.\u001b[39msingleton_printers,\n\u001b[1;32m    709\u001b[0m     type_pprinters\u001b[38;5;241m=\u001b[39m\u001b[38;5;28mself\u001b[39m\u001b[38;5;241m.\u001b[39mtype_printers,\n\u001b[1;32m    710\u001b[0m     deferred_pprinters\u001b[38;5;241m=\u001b[39m\u001b[38;5;28mself\u001b[39m\u001b[38;5;241m.\u001b[39mdeferred_printers)\n\u001b[0;32m--> 711\u001b[0m \u001b[43mprinter\u001b[49m\u001b[38;5;241;43m.\u001b[39;49m\u001b[43mpretty\u001b[49m\u001b[43m(\u001b[49m\u001b[43mobj\u001b[49m\u001b[43m)\u001b[49m\n\u001b[1;32m    712\u001b[0m printer\u001b[38;5;241m.\u001b[39mflush()\n\u001b[1;32m    713\u001b[0m \u001b[38;5;28;01mreturn\u001b[39;00m stream\u001b[38;5;241m.\u001b[39mgetvalue()\n",
      "File \u001b[0;32m~/Documents/lance_preconfs/.venv/lib/python3.12/site-packages/IPython/lib/pretty.py:419\u001b[0m, in \u001b[0;36mRepresentationPrinter.pretty\u001b[0;34m(self, obj)\u001b[0m\n\u001b[1;32m    408\u001b[0m                         \u001b[38;5;28;01mreturn\u001b[39;00m meth(obj, \u001b[38;5;28mself\u001b[39m, cycle)\n\u001b[1;32m    409\u001b[0m                 \u001b[38;5;28;01mif\u001b[39;00m (\n\u001b[1;32m    410\u001b[0m                     \u001b[38;5;28mcls\u001b[39m \u001b[38;5;129;01mis\u001b[39;00m \u001b[38;5;129;01mnot\u001b[39;00m \u001b[38;5;28mobject\u001b[39m\n\u001b[1;32m    411\u001b[0m                     \u001b[38;5;66;03m# check if cls defines __repr__\u001b[39;00m\n\u001b[0;32m   (...)\u001b[0m\n\u001b[1;32m    417\u001b[0m                     \u001b[38;5;129;01mand\u001b[39;00m \u001b[38;5;28mcallable\u001b[39m(_safe_getattr(\u001b[38;5;28mcls\u001b[39m, \u001b[38;5;124m\"\u001b[39m\u001b[38;5;124m__repr__\u001b[39m\u001b[38;5;124m\"\u001b[39m, \u001b[38;5;28;01mNone\u001b[39;00m))\n\u001b[1;32m    418\u001b[0m                 ):\n\u001b[0;32m--> 419\u001b[0m                     \u001b[38;5;28;01mreturn\u001b[39;00m \u001b[43m_repr_pprint\u001b[49m\u001b[43m(\u001b[49m\u001b[43mobj\u001b[49m\u001b[43m,\u001b[49m\u001b[43m \u001b[49m\u001b[38;5;28;43mself\u001b[39;49m\u001b[43m,\u001b[49m\u001b[43m \u001b[49m\u001b[43mcycle\u001b[49m\u001b[43m)\u001b[49m\n\u001b[1;32m    421\u001b[0m     \u001b[38;5;28;01mreturn\u001b[39;00m _default_pprint(obj, \u001b[38;5;28mself\u001b[39m, cycle)\n\u001b[1;32m    422\u001b[0m \u001b[38;5;28;01mfinally\u001b[39;00m:\n",
      "File \u001b[0;32m~/Documents/lance_preconfs/.venv/lib/python3.12/site-packages/IPython/lib/pretty.py:787\u001b[0m, in \u001b[0;36m_repr_pprint\u001b[0;34m(obj, p, cycle)\u001b[0m\n\u001b[1;32m    785\u001b[0m \u001b[38;5;250m\u001b[39m\u001b[38;5;124;03m\"\"\"A pprint that just redirects to the normal repr function.\"\"\"\u001b[39;00m\n\u001b[1;32m    786\u001b[0m \u001b[38;5;66;03m# Find newlines and replace them with p.break_()\u001b[39;00m\n\u001b[0;32m--> 787\u001b[0m output \u001b[38;5;241m=\u001b[39m \u001b[38;5;28;43mrepr\u001b[39;49m\u001b[43m(\u001b[49m\u001b[43mobj\u001b[49m\u001b[43m)\u001b[49m\n\u001b[1;32m    788\u001b[0m lines \u001b[38;5;241m=\u001b[39m output\u001b[38;5;241m.\u001b[39msplitlines()\n\u001b[1;32m    789\u001b[0m \u001b[38;5;28;01mwith\u001b[39;00m p\u001b[38;5;241m.\u001b[39mgroup():\n",
      "\u001b[0;31mInvalidInputException\u001b[0m: Invalid Input Error: Attempting to execute an unsuccessful or closed pending query result\nError: Invalid Error: OSError: LanceError(IO): This feature is not implemented: Extension type not supported: ExtensionType(ExtensionType { extension_uri_reference: 52, type_anchor: 0, name: \"u64\" }), /home/runner/work/lance/lance/rust/lance-datafusion/src/expr.rs:550:9\n\nAt:\n  /home/evan/Documents/lance_preconfs/.venv/lib/python3.12/site-packages/lance/dataset.py(2309): to_scanner\n  /home/evan/Documents/lance_preconfs/.venv/lib/python3.12/site-packages/lance/dataset.py(357): scanner\n  /home/evan/Documents/lance_preconfs/.venv/lib/python3.12/site-packages/IPython/lib/pretty.py(787): _repr_pprint\n  /home/evan/Documents/lance_preconfs/.venv/lib/python3.12/site-packages/IPython/lib/pretty.py(419): pretty\n  /home/evan/Documents/lance_preconfs/.venv/lib/python3.12/site-packages/IPython/core/formatters.py(711): __call__\n  /home/evan/Documents/lance_preconfs/.venv/lib/python3.12/site-packages/IPython/core/formatters.py(226): catch_format_error\n  /home/evan/Documents/lance_preconfs/.venv/lib/python3.12/site-packages/decorator.py(232): fun\n  /home/evan/Documents/lance_preconfs/.venv/lib/python3.12/site-packages/IPython/core/formatters.py(182): format\n  /home/evan/Documents/lance_preconfs/.venv/lib/python3.12/site-packages/IPython/core/displayhook.py(157): compute_format_data\n  /home/evan/Documents/lance_preconfs/.venv/lib/python3.12/site-packages/IPython/core/displayhook.py(268): __call__\n  /tmp/ipykernel_73562/997008423.py(1): <module>\n  /home/evan/Documents/lance_preconfs/.venv/lib/python3.12/site-packages/IPython/core/interactiveshell.py(3577): run_code\n  /home/evan/Documents/lance_preconfs/.venv/lib/python3.12/site-packages/IPython/core/interactiveshell.py(3517): run_ast_nodes\n  /home/evan/Documents/lance_preconfs/.venv/lib/python3.12/site-packages/IPython/core/interactiveshell.py(3334): run_cell_async\n  /home/evan/Documents/lance_preconfs/.venv/lib/python3.12/site-packages/IPython/core/async_helpers.py(128): _pseudo_sync_runner\n  /home/evan/Documents/lance_preconfs/.venv/lib/python3.12/site-packages/IPython/core/interactiveshell.py(3130): _run_cell\n  /home/evan/Documents/lance_preconfs/.venv/lib/python3.12/site-packages/IPython/core/interactiveshell.py(3075): run_cell\n  /home/evan/Documents/lance_preconfs/.venv/lib/python3.12/site-packages/ipykernel/zmqshell.py(549): run_cell\n  /home/evan/Documents/lance_preconfs/.venv/lib/python3.12/site-packages/ipykernel/ipkernel.py(449): do_execute\n  /home/evan/Documents/lance_preconfs/.venv/lib/python3.12/site-packages/ipykernel/kernelbase.py(778): execute_request\n  /home/evan/Documents/lance_preconfs/.venv/lib/python3.12/site-packages/ipykernel/ipkernel.py(362): execute_request\n  /home/evan/Documents/lance_preconfs/.venv/lib/python3.12/site-packages/ipykernel/kernelbase.py(437): dispatch_shell\n  /home/evan/Documents/lance_preconfs/.venv/lib/python3.12/site-packages/ipykernel/kernelbase.py(534): process_one\n  /home/evan/Documents/lance_preconfs/.venv/lib/python3.12/site-packages/ipykernel/kernelbase.py(545): dispatch_queue\n  /home/evan/.rye/py/cpython@3.12.2/install/lib/python3.12/asyncio/events.py(88): _run\n  /home/evan/.rye/py/cpython@3.12.2/install/lib/python3.12/asyncio/base_events.py(1985): _run_once\n  /home/evan/.rye/py/cpython@3.12.2/install/lib/python3.12/asyncio/base_events.py(639): run_forever\n  /home/evan/Documents/lance_preconfs/.venv/lib/python3.12/site-packages/tornado/platform/asyncio.py(205): start\n  /home/evan/Documents/lance_preconfs/.venv/lib/python3.12/site-packages/ipykernel/kernelapp.py(739): start\n  /home/evan/Documents/lance_preconfs/.venv/lib/python3.12/site-packages/traitlets/config/application.py(1075): launch_instance\n  /home/evan/Documents/lance_preconfs/.venv/lib/python3.12/site-packages/ipykernel_launcher.py(18): <module>\n  <frozen runpy>(88): _run_code\n  <frozen runpy>(198): _run_module_as_main\n"
     ]
    }
   ],
   "source": [
    "bidder_data"
   ]
  },
  {
   "cell_type": "code",
   "execution_count": null,
   "metadata": {},
   "outputs": [],
   "source": []
  }
 ],
 "metadata": {
  "kernelspec": {
   "display_name": ".venv",
   "language": "python",
   "name": "python3"
  },
  "language_info": {
   "codemirror_mode": {
    "name": "ipython",
    "version": 3
   },
   "file_extension": ".py",
   "mimetype": "text/x-python",
   "name": "python",
   "nbconvert_exporter": "python",
   "pygments_lexer": "ipython3",
   "version": "3.12.2"
  }
 },
 "nbformat": 4,
 "nbformat_minor": 2
}
